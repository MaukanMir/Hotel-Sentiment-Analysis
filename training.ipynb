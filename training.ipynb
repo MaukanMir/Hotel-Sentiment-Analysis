{
 "cells": [
  {
   "cell_type": "markdown",
   "metadata": {},
   "source": [
    "# Hotel Sentiment Analysis"
   ]
  },
  {
   "cell_type": "markdown",
   "metadata": {},
   "source": [
    "# Imports"
   ]
  },
  {
   "cell_type": "code",
   "execution_count": 1,
   "metadata": {},
   "outputs": [],
   "source": [
    "import pandas as pd\n",
    "import numpy as np\n",
    "import matplotlib.pyplot as plt\n",
    "import seaborn as sns"
   ]
  },
  {
   "cell_type": "markdown",
   "metadata": {},
   "source": [
    "# Functions"
   ]
  },
  {
   "cell_type": "code",
   "execution_count": 11,
   "metadata": {},
   "outputs": [],
   "source": [
    "def check_null_dupes(df):\n",
    "  print(f\"The amount of Nulls: {df.isna().sum()}\")\n",
    "  print(f\"The amount of dupes: {df.duplicated().sum()}\")\n",
    "\n",
    "def check_class_imbalance(target):\n",
    "  \n",
    "  unique, counts = np.unique(target, return_counts=True)\n",
    "  plt.figure(figsize=(10, 7))\n",
    "  plt.pie(counts, labels=unique, autopct=\"%1.1f%%\", startangle=140)\n",
    "  plt.legend(unique)\n",
    "  plt.show()\n",
    "  \n",
    "  plt.figure(figsize=(10, 7))\n",
    "  sns.countplot(x=target)\n",
    "  plt.xlabel(\"Target Class Breakdown\")\n",
    "  plt.ylabel(\"Counts\")\n",
    "  plt.xticks(rotation=45)\n",
    "  plt.show()"
   ]
  },
  {
   "cell_type": "markdown",
   "metadata": {},
   "source": [
    "# EDA Analysis"
   ]
  },
  {
   "cell_type": "code",
   "execution_count": 2,
   "metadata": {},
   "outputs": [
    {
     "data": {
      "text/html": [
       "<div>\n",
       "<style scoped>\n",
       "    .dataframe tbody tr th:only-of-type {\n",
       "        vertical-align: middle;\n",
       "    }\n",
       "\n",
       "    .dataframe tbody tr th {\n",
       "        vertical-align: top;\n",
       "    }\n",
       "\n",
       "    .dataframe thead th {\n",
       "        text-align: right;\n",
       "    }\n",
       "</style>\n",
       "<table border=\"1\" class=\"dataframe\">\n",
       "  <thead>\n",
       "    <tr style=\"text-align: right;\">\n",
       "      <th></th>\n",
       "      <th>Unnamed: 0</th>\n",
       "      <th>content</th>\n",
       "      <th>translated_content</th>\n",
       "      <th>priority_score</th>\n",
       "      <th>problem_domain</th>\n",
       "    </tr>\n",
       "  </thead>\n",
       "  <tbody>\n",
       "    <tr>\n",
       "      <th>0</th>\n",
       "      <td>1</td>\n",
       "      <td>Sorry, including the expensive price + apk usi...</td>\n",
       "      <td>Sorry, including the expensive price + apk usi...</td>\n",
       "      <td>2</td>\n",
       "      <td>0</td>\n",
       "    </tr>\n",
       "    <tr>\n",
       "      <th>1</th>\n",
       "      <td>2</td>\n",
       "      <td>Setelah install terus pas buka aplikasi ngebla...</td>\n",
       "      <td>After installed, the app stuck with white display</td>\n",
       "      <td>3</td>\n",
       "      <td>1</td>\n",
       "    </tr>\n",
       "    <tr>\n",
       "      <th>2</th>\n",
       "      <td>3</td>\n",
       "      <td>gak bisa submit pada saat verifikasi data, pad...</td>\n",
       "      <td>Cannot submit the data verification, even my i...</td>\n",
       "      <td>3</td>\n",
       "      <td>1</td>\n",
       "    </tr>\n",
       "    <tr>\n",
       "      <th>3</th>\n",
       "      <td>4</td>\n",
       "      <td>Aplilasi restart mulu</td>\n",
       "      <td>The app keep restarting</td>\n",
       "      <td>3</td>\n",
       "      <td>1</td>\n",
       "    </tr>\n",
       "    <tr>\n",
       "      <th>4</th>\n",
       "      <td>5</td>\n",
       "      <td>udah mahal , makanan ga enak, banyak lalat</td>\n",
       "      <td>Overpriced, bad food, too many flies</td>\n",
       "      <td>2</td>\n",
       "      <td>0</td>\n",
       "    </tr>\n",
       "    <tr>\n",
       "      <th>...</th>\n",
       "      <td>...</td>\n",
       "      <td>...</td>\n",
       "      <td>...</td>\n",
       "      <td>...</td>\n",
       "      <td>...</td>\n",
       "    </tr>\n",
       "    <tr>\n",
       "      <th>695</th>\n",
       "      <td>696</td>\n",
       "      <td>Mohon yang bersihin kamar mandi laki2 khusus l...</td>\n",
       "      <td>Please clean the men's bathrooms specifically ...</td>\n",
       "      <td>2</td>\n",
       "      <td>0</td>\n",
       "    </tr>\n",
       "    <tr>\n",
       "      <th>696</th>\n",
       "      <td>697</td>\n",
       "      <td>Kurang kedap suara. Kebangun gara2 pod sebelah...</td>\n",
       "      <td>Loading...</td>\n",
       "      <td>2</td>\n",
       "      <td>0</td>\n",
       "    </tr>\n",
       "    <tr>\n",
       "      <th>697</th>\n",
       "      <td>698</td>\n",
       "      <td>Would be nice if people could leave luggage af...</td>\n",
       "      <td>Would be nice if people could leave luggage af...</td>\n",
       "      <td>2</td>\n",
       "      <td>0</td>\n",
       "    </tr>\n",
       "    <tr>\n",
       "      <th>698</th>\n",
       "      <td>699</td>\n",
       "      <td>Matrasnya ternyata keras bgt\\nDiluar itu so fa...</td>\n",
       "      <td>The mattress turned out to be really hard\\nApa...</td>\n",
       "      <td>2</td>\n",
       "      <td>0</td>\n",
       "    </tr>\n",
       "    <tr>\n",
       "      <th>699</th>\n",
       "      <td>700</td>\n",
       "      <td>Toiletnya bau, tolong disediakan air mineral k...</td>\n",
       "      <td>Loading...</td>\n",
       "      <td>2</td>\n",
       "      <td>0</td>\n",
       "    </tr>\n",
       "  </tbody>\n",
       "</table>\n",
       "<p>700 rows × 5 columns</p>\n",
       "</div>"
      ],
      "text/plain": [
       "     Unnamed: 0                                            content  \\\n",
       "0             1  Sorry, including the expensive price + apk usi...   \n",
       "1             2  Setelah install terus pas buka aplikasi ngebla...   \n",
       "2             3  gak bisa submit pada saat verifikasi data, pad...   \n",
       "3             4                              Aplilasi restart mulu   \n",
       "4             5         udah mahal , makanan ga enak, banyak lalat   \n",
       "..          ...                                                ...   \n",
       "695         696  Mohon yang bersihin kamar mandi laki2 khusus l...   \n",
       "696         697  Kurang kedap suara. Kebangun gara2 pod sebelah...   \n",
       "697         698  Would be nice if people could leave luggage af...   \n",
       "698         699  Matrasnya ternyata keras bgt\\nDiluar itu so fa...   \n",
       "699         700  Toiletnya bau, tolong disediakan air mineral k...   \n",
       "\n",
       "                                    translated_content  priority_score  \\\n",
       "0    Sorry, including the expensive price + apk usi...               2   \n",
       "1    After installed, the app stuck with white display               3   \n",
       "2    Cannot submit the data verification, even my i...               3   \n",
       "3                              The app keep restarting               3   \n",
       "4                 Overpriced, bad food, too many flies               2   \n",
       "..                                                 ...             ...   \n",
       "695  Please clean the men's bathrooms specifically ...               2   \n",
       "696                                         Loading...               2   \n",
       "697  Would be nice if people could leave luggage af...               2   \n",
       "698  The mattress turned out to be really hard\\nApa...               2   \n",
       "699                                         Loading...               2   \n",
       "\n",
       "     problem_domain  \n",
       "0                 0  \n",
       "1                 1  \n",
       "2                 1  \n",
       "3                 1  \n",
       "4                 0  \n",
       "..              ...  \n",
       "695               0  \n",
       "696               0  \n",
       "697               0  \n",
       "698               0  \n",
       "699               0  \n",
       "\n",
       "[700 rows x 5 columns]"
      ]
     },
     "execution_count": 2,
     "metadata": {},
     "output_type": "execute_result"
    }
   ],
   "source": [
    "df = pd.read_csv(\"/Users/maukanmir/Downloads/hotel.csv\")\n",
    "df"
   ]
  },
  {
   "cell_type": "markdown",
   "metadata": {},
   "source": [
    "# Check for Nulls and Dupes"
   ]
  },
  {
   "cell_type": "code",
   "execution_count": 4,
   "metadata": {},
   "outputs": [
    {
     "name": "stdout",
     "output_type": "stream",
     "text": [
      "The amount of Nulls: Unnamed: 0            0\n",
      "content               0\n",
      "translated_content    0\n",
      "priority_score        0\n",
      "problem_domain        0\n",
      "dtype: int64\n",
      "The amount of dupes: 0\n"
     ]
    }
   ],
   "source": [
    "check_null_dupes(df)"
   ]
  },
  {
   "cell_type": "markdown",
   "metadata": {},
   "source": [
    "# Check for Class Imabalance"
   ]
  },
  {
   "cell_type": "code",
   "execution_count": 12,
   "metadata": {},
   "outputs": [
    {
     "data": {
      "image/png": "[encoded data removed]",
      "text/plain": [
       "<Figure size 1000x700 with 1 Axes>"
      ]
     },
     "metadata": {},
     "output_type": "display_data"
    },
    {
     "data": {
      "image/png": "[encoded data removed]",
      "text/plain": [
       "<Figure size 1000x700 with 1 Axes>"
      ]
     },
     "metadata": {},
     "output_type": "display_data"
    }
   ],
   "source": [
    "check_class_imbalance(df[\"priority_score\"])"
   ]
  },
  {
   "cell_type": "markdown",
   "metadata": {},
   "source": [
    "# Fairly Balanced Dataset"
   ]
  },
  {
   "cell_type": "markdown",
   "metadata": {},
   "source": [
    "# Drop uneeded columns"
   ]
  },
  {
   "cell_type": "code",
   "execution_count": 15,
   "metadata": {},
   "outputs": [],
   "source": [
    "df.drop([\"Unnamed: 0\", \"translated_content\"], axis=1, inplace=True)"
   ]
  }
 ],
 "metadata": {
  "kernelspec": {
   "display_name": "machine-learning-env",
   "language": "python",
   "name": "python3"
  },
  "language_info": {
   "codemirror_mode": {
    "name": "ipython",
    "version": 3
   },
   "file_extension": ".py",
   "mimetype": "text/x-python",
   "name": "python",
   "nbconvert_exporter": "python",
   "pygments_lexer": "ipython3",
   "version": "3.9.19"
  }
 },
 "nbformat": 4,
 "nbformat_minor": 2
}
